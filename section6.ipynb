{
 "cells": [
  {
   "cell_type": "code",
   "execution_count": 74,
   "id": "6ea0f37d-7d0a-496f-83d6-6e9cf9c0e914",
   "metadata": {},
   "outputs": [],
   "source": [
    "import seaborn as sns\n",
    "import numpy as np\n",
    "from scipy import stats\n",
    "import pandas as pd\n",
    "from sklearn.preprocessing import StandardScaler\n",
    "import matplotlib.pyplot as plt\n",
    "%matplotlib inline"
   ]
  },
  {
   "cell_type": "code",
   "execution_count": 3,
   "id": "89a4a536-a139-4c8d-a53b-1313d2b833c7",
   "metadata": {},
   "outputs": [],
   "source": [
    "df = sns.load_dataset('tips')\n",
    "df['tip_rate'] = df['tip'] / df['total_bill']"
   ]
  },
  {
   "cell_type": "markdown",
   "id": "25cf548b-4e71-4f50-a477-04e7a9be84b4",
   "metadata": {},
   "source": [
    "# 正規分布"
   ]
  },
  {
   "cell_type": "markdown",
   "id": "7239fad6-fbd8-485a-b07d-506d3f7f9cd3",
   "metadata": {},
   "source": [
    "## 68-95-99.7ルール\n",
    "μ ± σ 約68%<br>\n",
    "μ ± 2σ 約95%<br>\n",
    "μ ± 3σ 約99.7%〜100%<br>"
   ]
  },
  {
   "cell_type": "code",
   "execution_count": 54,
   "id": "010a94eb-d507-47a0-8215-eb90cca6c548",
   "metadata": {},
   "outputs": [],
   "source": [
    "loc = 4\n",
    "scale = 3\n",
    "\n",
    "group1 = []\n",
    "group2 = []\n",
    "group3 = []\n",
    "samples = []\n",
    "for _ in range(1000):\n",
    "    sample = stats.norm(loc=loc, scale=scale).rvs() \n",
    "    if loc-scale < sample < loc+scale:\n",
    "        group1.append(sample)\n",
    "    elif loc-2*scale < sample < loc+2*scale:\n",
    "        group2.append(sample)\n",
    "    elif loc-3*scale < sample < loc+3*scale:\n",
    "        group3.append(sample)\n",
    "    samples.append(sample)\n"
   ]
  },
  {
   "cell_type": "code",
   "execution_count": 55,
   "id": "e65ba50d-953f-4ce4-9be0-b3bcf08a72e8",
   "metadata": {},
   "outputs": [
    {
     "name": "stdout",
     "output_type": "stream",
     "text": [
      "0.683\n",
      "0.959\n",
      "0.999\n"
     ]
    }
   ],
   "source": [
    "print(len(group1)/ len(samples))\n",
    "print((len(group1) + len(group2)) / len(samples))\n",
    "print((len(group1) + len(group2) + len(group3)) / len(samples))"
   ]
  },
  {
   "cell_type": "code",
   "execution_count": 53,
   "id": "de1760bc-92d6-4d0d-9d25-b2b2f8e6e96f",
   "metadata": {},
   "outputs": [
    {
     "data": {
      "text/plain": [
       "1000"
      ]
     },
     "execution_count": 53,
     "metadata": {},
     "output_type": "execute_result"
    }
   ],
   "source": [
    "len(samples)"
   ]
  },
  {
   "cell_type": "markdown",
   "id": "857b6bc7-aaac-4f33-b7e7-1eba5a8d57b0",
   "metadata": {},
   "source": [
    "### 標準化"
   ]
  },
  {
   "cell_type": "markdown",
   "id": "2ac091de-2b17-4d46-9fc9-c5b076634889",
   "metadata": {},
   "source": [
    "$z=\\frac{x-\\bar{x}}{s}$"
   ]
  },
  {
   "cell_type": "markdown",
   "id": "aa76a76d-e22c-4839-b82f-06ea1e65608d",
   "metadata": {},
   "source": [
    "各値から平均を引くと平均が0になる<br>\n",
    "$\\bar{x}=\\frac{x_{1}+x_{2}・・・+x_{n}}{n}$<br>\n",
    "$\\bar{x} - \\bar{x}=\\frac{x_{1}+x_{2}・・・+x_{n}}{n} - \\bar{x}$<br>\n",
    "$0=\\frac{x_{1}+x_{2}・・・+x_{n}}{n} - \\frac{\\bar{x}n}{n}$<br>\n",
    "$0=\\frac{(x_{1} -\\bar{x}) +(x_{2} -\\bar{x}) ・・・+(x_{n} -\\bar{x})}{n}$<br>\n",
    "$0=x  -\\bar{x}$<br>"
   ]
  },
  {
   "cell_type": "markdown",
   "id": "0f50e659-6ca0-4695-ab40-d16a7e27467e",
   "metadata": {},
   "source": [
    "各値から平均を引いた値を標準偏差で割ると分散が1となる<br>\n",
    "$s^2=\\frac{1}{n}Σ^{n}_{i-1}(x_{i}-\\bar{x})^2$ 平均は0なので$\\bar{x}は消える$<br>\n",
    "$s^2×\\frac{1}{s^2}=\\frac{1}{n}Σ^{n}_{i-1}(x_{i})^2×\\frac{1}{s^2}$<br>\n",
    "$1=\\frac{1}{n}Σ^{n}_{i-1}( \\frac{x_{i}}{s})^2$<br>\n",
    "$1=x_{i}^2$"
   ]
  },
  {
   "cell_type": "code",
   "execution_count": 85,
   "id": "929a245e-22e8-44d6-b538-98b8701f7831",
   "metadata": {},
   "outputs": [],
   "source": [
    "scaler = StandardScaler()\n",
    "scaled = scaler.fit_transform(df['tip_rate'].values.reshape(-1,1))"
   ]
  },
  {
   "cell_type": "code",
   "execution_count": 92,
   "id": "0c65384b-7365-4fc2-bead-2472687d9fe1",
   "metadata": {},
   "outputs": [],
   "source": [
    "# scaler.fit_transform(df[['tip_rate','total_bill']])"
   ]
  },
  {
   "cell_type": "code",
   "execution_count": 94,
   "id": "46c323f0-97e3-4f88-9b33-ac91ba15b73a",
   "metadata": {},
   "outputs": [],
   "source": [
    "# 偏差値\n",
    "# scaled * 10 + 50"
   ]
  },
  {
   "cell_type": "markdown",
   "id": "7d7d3cf2-7bbf-4597-878f-88e3aca761e7",
   "metadata": {},
   "source": [
    "### 二項分布"
   ]
  },
  {
   "cell_type": "markdown",
   "id": "245ca620-792c-4534-87ae-dc26daf1a6a4",
   "metadata": {
    "tags": []
   },
   "source": [
    "ある観察や試行を複数回行った時に，ある事象が起こる回数が従う確率分布<br>\n",
    "例）サイコロを3回投げて2がx回でる確率<br>\n",
    "\n",
    "=サイコロを３回投げて2が1回出る組み合わせ×2が1回出る確率×2が2回でない確率"
   ]
  },
  {
   "cell_type": "markdown",
   "id": "eeb95ec7-5eba-4aa3-8b44-f9d93ebfc519",
   "metadata": {
    "tags": []
   },
   "source": [
    "2がn回中x回でる組み合わせは $_{n}C_{x} = \\frac{n!}{x!(n-x)}$<br>\n",
    "\n",
    "これに2が出る確率をかける"
   ]
  },
  {
   "cell_type": "markdown",
   "id": "7479c8d9-73b8-49b6-9dfa-8cb23df5f6ee",
   "metadata": {},
   "source": [
    "ある事象が起こる確率pの試行をn回実施してその事象がx回起こる確率(P(x))は<br>\n",
    "$P(x) = _{n}C_{x}p^xq^{n-x} = \\frac{n!}{x!(n-x)}p^xq^{n-x}$<br>\n",
    "\n",
    "ただしq = 1 - p"
   ]
  },
  {
   "cell_type": "code",
   "execution_count": 157,
   "id": "297cef17-c47e-4422-887d-d1ff0defaadc",
   "metadata": {},
   "outputs": [
    {
     "data": {
      "text/plain": [
       "<matplotlib.collections.LineCollection at 0x40f5af1a30>"
      ]
     },
     "execution_count": 157,
     "metadata": {},
     "output_type": "execute_result"
    },
    {
     "data": {
      "image/png": "[encoded data removed]",
      "text/plain": [
       "<Figure size 432x288 with 1 Axes>"
      ]
     },
     "metadata": {
      "needs_background": "light"
     },
     "output_type": "display_data"
    }
   ],
   "source": [
    "n = 3\n",
    "x = np.arange(n+1)\n",
    "y = stats.binom(n=n, p=1/6).pmf(x)\n",
    "plt.plot(x, y, 'o')\n",
    "plt.vlines(x, 0, y)"
   ]
  },
  {
   "cell_type": "markdown",
   "id": "395333b1-68a5-4886-b137-214827d211e2",
   "metadata": {},
   "source": [
    "### 二項分布と正規分布\n",
    "二項分布のnを無限大にした分布は正規分布に近似する<br>\n",
    "\n",
    "平均np、分散npqの正規分布に近似できる<br>\n",
    "\n",
    "例）サイコロを100回投げて2がx回出る確率<br>\n",
    "100(=n)×$\\frac{1}{6}$(=p)→17回が最も確率が高い"
   ]
  },
  {
   "cell_type": "code",
   "execution_count": 158,
   "id": "fa9592f1-6df4-4a0a-b9e0-e9d395c0151c",
   "metadata": {},
   "outputs": [
    {
     "data": {
      "text/plain": [
       "[<matplotlib.lines.Line2D at 0x40f61562b0>]"
      ]
     },
     "execution_count": 158,
     "metadata": {},
     "output_type": "execute_result"
    },
    {
     "data": {
      "image/png": "[encoded data removed]",
      "text/plain": [
       "<Figure size 432x288 with 1 Axes>"
      ]
     },
     "metadata": {
      "needs_background": "light"
     },
     "output_type": "display_data"
    }
   ],
   "source": [
    "p = 1/6\n",
    "n = 100\n",
    "x = np.arange(n+1)\n",
    "\n",
    "y = stats.binom(n=n, p=p).pmf(x)\n",
    "plt.plot(x, y, 'o')\n"
   ]
  },
  {
   "cell_type": "code",
   "execution_count": 165,
   "id": "0e0bd35a-a075-4401-a58b-61cc361b3b2a",
   "metadata": {},
   "outputs": [
    {
     "data": {
      "text/plain": [
       "[<matplotlib.lines.Line2D at 0x40f65024f0>]"
      ]
     },
     "execution_count": 165,
     "metadata": {},
     "output_type": "execute_result"
    },
    {
     "data": {
      "image/png": "[encoded data removed]",
      "text/plain": [
       "<Figure size 432x288 with 1 Axes>"
      ]
     },
     "metadata": {
      "needs_background": "light"
     },
     "output_type": "display_data"
    }
   ],
   "source": [
    "y2 = stats.norm(n*p, np.sqrt(n*p*(1-p))).pdf(x)\n",
    "plt.plot(x, y2)\n",
    "plt.plot(x, y, 'o')"
   ]
  },
  {
   "cell_type": "code",
   "execution_count": 131,
   "id": "d433cc5b-7d82-4cd0-b122-fb2c7cb77164",
   "metadata": {},
   "outputs": [
    {
     "data": {
      "text/plain": [
       "16.666666666666664"
      ]
     },
     "execution_count": 131,
     "metadata": {},
     "output_type": "execute_result"
    }
   ],
   "source": [
    "# 平均\n",
    "stats.binom(n, p).mean()"
   ]
  },
  {
   "cell_type": "code",
   "execution_count": 132,
   "id": "1c68ff48-e673-4f43-8e02-6ce7d8c50ccb",
   "metadata": {},
   "outputs": [
    {
     "data": {
      "text/plain": [
       "16.666666666666664"
      ]
     },
     "execution_count": 132,
     "metadata": {},
     "output_type": "execute_result"
    }
   ],
   "source": [
    "n*p"
   ]
  },
  {
   "cell_type": "code",
   "execution_count": 135,
   "id": "f69fe9bb-9e6e-4e28-b7da-545dfd149b16",
   "metadata": {},
   "outputs": [
    {
     "data": {
      "text/plain": [
       "13.888888888888888"
      ]
     },
     "execution_count": 135,
     "metadata": {},
     "output_type": "execute_result"
    }
   ],
   "source": [
    "# 分散\n",
    "stats.binom(n, p).var()"
   ]
  },
  {
   "cell_type": "code",
   "execution_count": 134,
   "id": "5fa13b1e-639d-493b-b1d9-f9277f9449a2",
   "metadata": {},
   "outputs": [
    {
     "data": {
      "text/plain": [
       "13.888888888888888"
      ]
     },
     "execution_count": 134,
     "metadata": {},
     "output_type": "execute_result"
    }
   ],
   "source": [
    "n*p*(1-p)"
   ]
  },
  {
   "cell_type": "code",
   "execution_count": null,
   "id": "d9a5dd76-820b-4db3-9d2c-9d626614a92d",
   "metadata": {},
   "outputs": [],
   "source": []
  }
 ],
 "metadata": {
  "kernelspec": {
   "display_name": "Python 3",
   "language": "python",
   "name": "python3"
  },
  "language_info": {
   "codemirror_mode": {
    "name": "ipython",
    "version": 3
   },
   "file_extension": ".py",
   "mimetype": "text/x-python",
   "name": "python",
   "nbconvert_exporter": "python",
   "pygments_lexer": "ipython3",
   "version": "3.8.8"
  }
 },
 "nbformat": 4,
 "nbformat_minor": 5
}
