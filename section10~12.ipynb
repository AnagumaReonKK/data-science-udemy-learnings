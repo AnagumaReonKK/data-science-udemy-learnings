{
 "cells": [
  {
   "cell_type": "markdown",
   "id": "d5aeb17c-c697-4fe7-a5a4-0a3c22a15858",
   "metadata": {},
   "source": [
    "# 2群の比率差の検定"
   ]
  },
  {
   "cell_type": "markdown",
   "id": "b870f755-7906-4cf2-9829-f2a7e14291ca",
   "metadata": {},
   "source": [
    "標本ではなく母数に差があるのかを検定する"
   ]
  },
  {
   "cell_type": "code",
   "execution_count": 3,
   "id": "8c992018-ef3e-4b43-8f92-d63bc73e02e6",
   "metadata": {},
   "outputs": [],
   "source": [
    "import seaborn as sns\n",
    "import numpy as np\n",
    "from scipy import stats\n",
    "from statsmodels.stats.proportion import proportions_ztest\n",
    "import pandas as pd\n",
    "from sklearn.preprocessing import StandardScaler\n",
    "import matplotlib.pyplot as plt\n",
    "%matplotlib inline"
   ]
  },
  {
   "cell_type": "code",
   "execution_count": 2,
   "id": "7e84e445-9d10-4959-a9a9-de12cec9f090",
   "metadata": {},
   "outputs": [],
   "source": [
    "df = sns.load_dataset('tips')\n",
    "df['tip_rate'] = df['tip'] / df['total_bill']"
   ]
  },
  {
   "cell_type": "markdown",
   "id": "d4819ae0-e4b1-4a30-8e0d-7dd02994d503",
   "metadata": {},
   "source": [
    "## 比率差の検定\n",
    "### statsmodels.stats.proporRon.proporRons_ztest(count, nobs, alternaRve)\n",
    "例\n",
    "- count: 標本の中で実際に観察できた数\n",
    "- nobs(the number of observaYons): 標本の大きさ\n",
    "- alternaYve: ‘two-sided’, ‘smaller’, ‘larger’ (’smaller’: p1 < p2, larger’: p1 > p2)"
   ]
  },
  {
   "cell_type": "code",
   "execution_count": 5,
   "id": "9bd4abe7-5aa5-4924-8af5-f49f86904707",
   "metadata": {},
   "outputs": [
    {
     "data": {
      "text/plain": [
       "(-0.3840618481549573, 0.35046630388746547)"
      ]
     },
     "execution_count": 5,
     "metadata": {},
     "output_type": "execute_result"
    }
   ],
   "source": [
    "proportions_ztest([30, 33], [1000, 1000], alternative='smaller')"
   ]
  },
  {
   "cell_type": "markdown",
   "id": "aea3547e-89eb-4a46-8a35-5264bb2db48c",
   "metadata": {},
   "source": [
    "## 連関の検定\n",
    "### chi2, p, dof, ex = stats.chi2_conRngency(obs, correcRon=False)"
   ]
  },
  {
   "cell_type": "code",
   "execution_count": 7,
   "id": "774e4416-31b8-497e-b81c-52cf72c578b8",
   "metadata": {},
   "outputs": [
    {
     "data": {
      "text/plain": [
       "(21.502976190476193,\n",
       " 3.5327994689842735e-06,\n",
       " 1,\n",
       " array([[ 6., 14.],\n",
       "        [24., 56.]]))"
      ]
     },
     "execution_count": 7,
     "metadata": {},
     "output_type": "execute_result"
    }
   ],
   "source": [
    "obs = [[15, 5], [15, 65]]\n",
    "stats.chi2_contingency(obs, correction=False)"
   ]
  },
  {
   "cell_type": "markdown",
   "id": "08f97746-10d3-446e-8b7d-f4bdb1ef7f13",
   "metadata": {},
   "source": [
    "## Z検定とカイ二乗検定"
   ]
  },
  {
   "cell_type": "code",
   "execution_count": 69,
   "id": "e6c84cfa-859b-483e-8b36-2243bb842099",
   "metadata": {},
   "outputs": [
    {
     "data": {
      "text/plain": [
       "(-0.45596075258755353, 0.6484182011551725)"
      ]
     },
     "execution_count": 69,
     "metadata": {},
     "output_type": "execute_result"
    }
   ],
   "source": [
    "n = 50\n",
    "col = 'time'\n",
    "dinner_counts = []\n",
    "lunch_counts = []\n",
    "\n",
    "for _ in range(2):\n",
    "    sample_df = df.sample(n)\n",
    "    time_df = sample_df[col]\n",
    "    dinner_counts.append(time_df.value_counts()['Dinner'])\n",
    "    lunch_counts.append(time_df.value_counts()['Lunch'])\n",
    "\n",
    "# Z検定\n",
    "proportions_ztest(dinner_counts, [n, n], alternative='two-sided')"
   ]
  },
  {
   "cell_type": "code",
   "execution_count": 70,
   "id": "578d7400-4b0f-4866-9f77-4b0614657c5c",
   "metadata": {},
   "outputs": [
    {
     "data": {
      "text/plain": [
       "(0.2079002079002079,\n",
       " 0.6484182011551727,\n",
       " 1,\n",
       " array([[37., 37.],\n",
       "        [13., 13.]]))"
      ]
     },
     "execution_count": 70,
     "metadata": {},
     "output_type": "execute_result"
    }
   ],
   "source": [
    "obs = [dinner_counts, lunch_counts]\n",
    "\n",
    "# カイ二乗検定\n",
    "stats.chi2_contingency(obs, correction=False)"
   ]
  },
  {
   "cell_type": "code",
   "execution_count": 56,
   "id": "9b5dc10a-1c67-4105-96b0-b5d24db1852f",
   "metadata": {},
   "outputs": [
    {
     "data": {
      "text/plain": [
       "Dinner    38\n",
       "Lunch     12\n",
       "Name: time, dtype: int64"
      ]
     },
     "execution_count": 56,
     "metadata": {},
     "output_type": "execute_result"
    }
   ],
   "source": [
    "time_df.value_counts()"
   ]
  },
  {
   "cell_type": "code",
   "execution_count": null,
   "id": "61f709dd-d5ac-44bc-8e0c-184576ac9461",
   "metadata": {},
   "outputs": [],
   "source": []
  }
 ],
 "metadata": {
  "kernelspec": {
   "display_name": "Python 3",
   "language": "python",
   "name": "python3"
  },
  "language_info": {
   "codemirror_mode": {
    "name": "ipython",
    "version": 3
   },
   "file_extension": ".py",
   "mimetype": "text/x-python",
   "name": "python",
   "nbconvert_exporter": "python",
   "pygments_lexer": "ipython3",
   "version": "3.8.8"
  }
 },
 "nbformat": 4,
 "nbformat_minor": 5
}
