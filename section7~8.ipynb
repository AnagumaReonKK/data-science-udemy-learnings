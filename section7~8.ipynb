{
 "cells": [
  {
   "cell_type": "code",
   "execution_count": 44,
   "id": "e52e97e7-b839-4cd4-af7c-3f5b3902b3ec",
   "metadata": {},
   "outputs": [],
   "source": [
    "import seaborn as sns\n",
    "import numpy as np\n",
    "from scipy import stats\n",
    "import pandas as pd\n",
    "from sklearn.preprocessing import StandardScaler\n",
    "import matplotlib.pyplot as plt\n",
    "%matplotlib inline"
   ]
  },
  {
   "cell_type": "code",
   "execution_count": 45,
   "id": "ffaa6dd8-34c6-4eef-8b56-b0e0a0364f6d",
   "metadata": {},
   "outputs": [],
   "source": [
    "df = sns.load_dataset('tips')\n",
    "df['tip_rate'] = df['tip'] / df['total_bill']"
   ]
  },
  {
   "cell_type": "markdown",
   "id": "08d21a3b-3dc8-4709-881b-57ad32e5aeca",
   "metadata": {},
   "source": [
    "# 推測統計\n",
    "\n",
    "推測統計には大きく「推定」と「検定」がある"
   ]
  },
  {
   "cell_type": "markdown",
   "id": "9d578ec5-a4a3-4876-9dce-513fb8dd244c",
   "metadata": {},
   "source": [
    "## 標本分布"
   ]
  },
  {
   "cell_type": "markdown",
   "id": "a09098a9-fb5e-4b54-9257-95212bdfd841",
   "metadata": {},
   "source": [
    "母集団からランダムに標本を取得する際の標本の背後にある分布のこと<br>\n",
    "ただし、標本分布は実際には存在しない。"
   ]
  },
  {
   "cell_type": "markdown",
   "id": "424b1bc1-cf83-4a41-b9e9-03c477300816",
   "metadata": {},
   "source": [
    "## 推定量"
   ]
  },
  {
   "cell_type": "markdown",
   "id": "2776e5d3-cf38-49a6-afc5-718a36643b57",
   "metadata": {},
   "source": [
    "母数の推定に使う標本統計量を推定量という<br>"
   ]
  },
  {
   "cell_type": "markdown",
   "id": "fb5eadc2-f00f-4a10-8a53-1f9726a57a29",
   "metadata": {},
   "source": [
    "## 不偏性"
   ]
  },
  {
   "cell_type": "markdown",
   "id": "f5d0175c-6da2-4f2c-8c4c-b7e17b3f8553",
   "metadata": {},
   "source": [
    "推定量が”平均的に”母数と一致する場合その推定量は「不偏性がある」という<br>\n",
    "推定量として適しているかどうかを判断する基準は不偏性があるか？<br>\n"
   ]
  },
  {
   "cell_type": "code",
   "execution_count": 46,
   "id": "9162b8f6-2f69-4aea-a855-57c56ebadff3",
   "metadata": {},
   "outputs": [
    {
     "name": "stdout",
     "output_type": "stream",
     "text": [
      "標本平均 3.0046679999999997\n",
      "母平均 2.9982786885245902\n",
      "標本分散 0.03605367057599998\n",
      "母分散 0.03813217024993285\n"
     ]
    }
   ],
   "source": [
    "m = 100\n",
    "n = 50\n",
    "column = 'tip'\n",
    "sample_means = []\n",
    "\n",
    "for _ in range(m):\n",
    "    sampled_df = df.sample(n)\n",
    "    sample_mean = sampled_df[column].mean()\n",
    "    sample_means.append(sample_mean)\n",
    "\n",
    "print('標本平均', np.mean(sample_means))\n",
    "print('母平均', df[column].mean())\n",
    "print('標本分散', np.var(sample_means))\n",
    "print('母分散', np.var(df[column])/n)"
   ]
  },
  {
   "cell_type": "code",
   "execution_count": 47,
   "id": "7b761116-fdae-41dd-802c-b0d31d37df03",
   "metadata": {},
   "outputs": [
    {
     "data": {
      "text/plain": [
       "<seaborn.axisgrid.FacetGrid at 0x4052f91be0>"
      ]
     },
     "execution_count": 47,
     "metadata": {},
     "output_type": "execute_result"
    },
    {
     "data": {
      "image/png": "[encoded data removed]",
      "text/plain": [
       "<Figure size 360x360 with 1 Axes>"
      ]
     },
     "metadata": {
      "needs_background": "light"
     },
     "output_type": "display_data"
    }
   ],
   "source": [
    "sns.displot(sample_means)"
   ]
  },
  {
   "cell_type": "markdown",
   "id": "889b087d-f9bc-4867-b24d-4984aabf8f88",
   "metadata": {},
   "source": [
    "## 不偏分散"
   ]
  },
  {
   "cell_type": "code",
   "execution_count": 48,
   "id": "e3500d9a-cc35-4e63-bc93-78631c3562a6",
   "metadata": {},
   "outputs": [
    {
     "data": {
      "text/plain": [
       "1.914454638062471"
      ]
     },
     "execution_count": 48,
     "metadata": {},
     "output_type": "execute_result"
    }
   ],
   "source": [
    "# 不偏分散\n",
    "stats.tvar(df['tip'])"
   ]
  },
  {
   "cell_type": "code",
   "execution_count": 49,
   "id": "5e4656cb-0a52-4bcb-b999-7e15646e5807",
   "metadata": {},
   "outputs": [
    {
     "data": {
      "text/plain": [
       "1.9144546380624725"
      ]
     },
     "execution_count": 49,
     "metadata": {},
     "output_type": "execute_result"
    }
   ],
   "source": [
    "np.var(df['tip'], ddof=1)"
   ]
  },
  {
   "cell_type": "code",
   "execution_count": 50,
   "id": "58ad97d7-abde-4521-b12a-8a8ad0773c07",
   "metadata": {},
   "outputs": [
    {
     "data": {
      "text/plain": [
       "1.3836381890011822"
      ]
     },
     "execution_count": 50,
     "metadata": {},
     "output_type": "execute_result"
    }
   ],
   "source": [
    "# 不偏分散の平方根\n",
    "np.sqrt(stats.tvar(df['tip']))"
   ]
  },
  {
   "cell_type": "code",
   "execution_count": 51,
   "id": "dfc02c79-302e-4e1d-aacf-ba35d6361800",
   "metadata": {},
   "outputs": [
    {
     "data": {
      "text/plain": [
       "1.3836381890011822"
      ]
     },
     "execution_count": 51,
     "metadata": {},
     "output_type": "execute_result"
    }
   ],
   "source": [
    "stats.tstd(df['tip'])"
   ]
  },
  {
   "cell_type": "code",
   "execution_count": 52,
   "id": "60adc7fa-c30b-4aea-bf85-92059d9550bd",
   "metadata": {},
   "outputs": [
    {
     "data": {
      "text/plain": [
       "1.3836381890011826"
      ]
     },
     "execution_count": 52,
     "metadata": {},
     "output_type": "execute_result"
    }
   ],
   "source": [
    "np.std(df['tip'], ddof=1)"
   ]
  },
  {
   "cell_type": "markdown",
   "id": "c20f9425-4f54-437e-8d1c-9b70a35df089",
   "metadata": {},
   "source": [
    "## 不偏分散の不編性"
   ]
  },
  {
   "cell_type": "code",
   "execution_count": 53,
   "id": "547c6870-927e-4f33-a6dd-4a00c9fff298",
   "metadata": {},
   "outputs": [
    {
     "data": {
      "text/plain": [
       "1.9066085124966428"
      ]
     },
     "execution_count": 53,
     "metadata": {},
     "output_type": "execute_result"
    }
   ],
   "source": [
    "# 母集団の分散\n",
    "np.var(df['tip'])"
   ]
  },
  {
   "cell_type": "code",
   "execution_count": 54,
   "id": "63fec971-5035-4ea9-aadc-ca99c6ed868b",
   "metadata": {},
   "outputs": [
    {
     "name": "stdout",
     "output_type": "stream",
     "text": [
      "標本分散 1.8882884427600002\n",
      "不偏分散 1.9268249415918368\n"
     ]
    }
   ],
   "source": [
    "m = 1000\n",
    "n = 50\n",
    "column = 'tip'\n",
    "sample_vars = []\n",
    "sample_uvars = []\n",
    "\n",
    "for _ in range(m):\n",
    "    sample_df = df.sample(n)\n",
    "    sample_var = np.var(sample_df[column])\n",
    "    sample_vars.append(sample_var)\n",
    "\n",
    "    sample_uvar = np.var(sample_df[column], ddof=1)\n",
    "    sample_uvars.append(sample_uvar)\n",
    "\n",
    "print('標本分散', np.mean(sample_vars))\n",
    "print('不偏分散', np.mean(sample_uvars))"
   ]
  },
  {
   "cell_type": "markdown",
   "id": "98e9a038-a4a9-431f-bdb7-c03adad5691b",
   "metadata": {},
   "source": [
    "## 推定"
   ]
  },
  {
   "cell_type": "markdown",
   "id": "88cc1ce6-e9ac-4b4c-b0a2-53fb501d7843",
   "metadata": {},
   "source": [
    "### 点推定と区間推定"
   ]
  },
  {
   "cell_type": "markdown",
   "id": "676e7c17-901a-4b82-bfa1-0537401b2f16",
   "metadata": {},
   "source": [
    "#### 区間推定とは？\n",
    "- 母数の値を区間を持って推定すること\n",
    "- 区間と共に確度をつける(信頼区間)\n",
    "\n",
    "例）95%の信頼区間とは100回に5回は間違える"
   ]
  },
  {
   "cell_type": "markdown",
   "id": "af1a26a7-5957-4354-abe4-009d97fa72a3",
   "metadata": {},
   "source": [
    "### 比率の区間推定の手順\n",
    "1. 母集団から標本を無作為抽出する(母比率はpとする)\n",
    "2. 標本から推定量(標本比率)を計算する($\\frac{x}{n}$)<br>\n",
    "※点推定の場合ここで終わり\n",
    "3. 二項分布を用いて標本平均をnp、分散をnpqと考えることができる（nが大きい時平均np,分散npqの正規分布に近似できる）\n",
    "4. 比率の標本分布は平均($\\frac{np}{n}=p$)、標準偏差($\\sqrt{npq}=\\sqrt{\\frac{pq}{n}}$)の正規分布となる(分散は$\\frac{pq}{n}$)\n",
    "5. 比率の標本分布を標準化する($z=\\frac{\\frac{x}{n}-p}{\\sqrt{\\frac{pq}{n}}}$)\n",
    "6. zが-1.96~1.96の区間で95%の確率になるため、$-1.96 < \\frac{\\frac{x}{n}-p}{\\sqrt{\\frac{pq}{n}}} < 1.96$に対してpについて解く\n",
    "\n",
    "=> 母比率pはp1~p2の間であることが95%確かであると言える"
   ]
  },
  {
   "cell_type": "code",
   "execution_count": 55,
   "id": "39421a5d-8062-4f29-be7e-a4db78545bb4",
   "metadata": {},
   "outputs": [
    {
     "data": {
      "text/plain": [
       "(560.0, 640.0)"
      ]
     },
     "execution_count": 55,
     "metadata": {},
     "output_type": "execute_result"
    }
   ],
   "source": [
    "stats.binom.interval(0.99, 1000, 0.6)"
   ]
  },
  {
   "cell_type": "code",
   "execution_count": 56,
   "id": "1648ec83-f305-41de-adf5-34bff5481422",
   "metadata": {},
   "outputs": [
    {
     "name": "stdout",
     "output_type": "stream",
     "text": [
      "True     96\n",
      "False     4\n",
      "Name: correct, dtype: int64\n",
      "0.96\n"
     ]
    }
   ],
   "source": [
    "n = 50\n",
    "m = 100\n",
    "col = 'sex'\n",
    "target = 'Male'\n",
    "count = 0\n",
    "alpha = 0.95\n",
    "results = []\n",
    "\n",
    "population_rat = len(df[df[col]==target])/len(df)\n",
    "\n",
    "for _ in range(m):\n",
    "    sample_df = df.sample(n)\n",
    "    sample_rat = len(sample_df[sample_df[col]==target])/len(sample_df)\n",
    "    min_num, max_num = stats.binom.interval(alpha=alpha, n=n, p=sample_rat)\n",
    "    min_rat = min_num / n\n",
    "    max_rat = max_num / n\n",
    "    \n",
    "    correct = min_rat < population_rat < max_rat\n",
    "    results.append({'min': min_rat, 'max': max_rat, 'correct': correct})\n",
    "    \n",
    "results_df = pd.DataFrame(results)\n",
    "print(results_df['correct'].value_counts())\n",
    "print(results_df['correct'].value_counts()[True]/m)"
   ]
  },
  {
   "cell_type": "code",
   "execution_count": 57,
   "id": "7ee1ce55-9c9a-4535-984b-4b1d399db6fc",
   "metadata": {},
   "outputs": [
    {
     "data": {
      "text/plain": [
       "96"
      ]
     },
     "execution_count": 57,
     "metadata": {},
     "output_type": "execute_result"
    }
   ],
   "source": [
    "results_df['correct'].value_counts()[True]"
   ]
  },
  {
   "cell_type": "markdown",
   "id": "c885131a-1b79-4dd4-baaa-c3cfc0f012d0",
   "metadata": {},
   "source": [
    "### 平均値の区間推定"
   ]
  },
  {
   "cell_type": "code",
   "execution_count": 58,
   "id": "662846bb-9f53-4139-806d-2971f501dfea",
   "metadata": {},
   "outputs": [
    {
     "name": "stdout",
     "output_type": "stream",
     "text": [
      "0.97\n"
     ]
    },
    {
     "data": {
      "text/plain": [
       "True     97\n",
       "False     3\n",
       "Name: correct, dtype: int64"
      ]
     },
     "execution_count": 58,
     "metadata": {},
     "output_type": "execute_result"
    }
   ],
   "source": [
    "col = 'tip'\n",
    "n = 50\n",
    "m = 100\n",
    "alpha = 0.95\n",
    "results = []\n",
    "\n",
    "popilation_mean = df[col].mean()\n",
    "\n",
    "for _ in range(m):\n",
    "    sample_df = df.sample(n)\n",
    "    \n",
    "    # 標本平均\n",
    "    sample_mean = sample_df[col].mean()\n",
    "\n",
    "    # 不偏分散\n",
    "    sample_var = stats.tvar(sample_df[col])\n",
    "    \n",
    "    # alpha=信頼度、loc=標本平均、scale=標本平均の標準偏差\n",
    "    min_val, max_val = stats.norm.interval(alpha=alpha, loc=sample_mean, scale=np.sqrt(sample_var/n))\n",
    "\n",
    "    correct = min_val < popilation_mean < max_val\n",
    "    results.append({'min': min_val, 'max': max_val, 'correct': correct})\n",
    "\n",
    "result_df = pd.DataFrame(results)\n",
    "print(len(result_df[result_df['correct'] == True]) / len(result_df))\n",
    "result_df['correct'].value_counts()"
   ]
  },
  {
   "cell_type": "markdown",
   "id": "cb82a3c9-55aa-4f9e-9ffc-792c1976171a",
   "metadata": {},
   "source": [
    "### t分布\n",
    "自由度(degree of freedom)n − 1をパラメータにとる<br>\n",
    "t dist(df=1) => n=2<br>\n",
    "t dist(df=5) => n=6<br>\n",
    "t dist(df=9) => n=10<br>\n",
    "\n",
    "nが30くらいあればほぼほぼ正規分布として扱って良い"
   ]
  },
  {
   "cell_type": "code",
   "execution_count": 59,
   "id": "945e6552-2fa5-4d70-85fe-5d97382de458",
   "metadata": {},
   "outputs": [
    {
     "data": {
      "text/plain": [
       "<matplotlib.legend.Legend at 0x405404e250>"
      ]
     },
     "execution_count": 59,
     "metadata": {},
     "output_type": "execute_result"
    },
    {
     "data": {
      "image/png": "[encoded data removed]",
      "text/plain": [
       "<Figure size 432x288 with 1 Axes>"
      ]
     },
     "metadata": {
      "needs_background": "light"
     },
     "output_type": "display_data"
    }
   ],
   "source": [
    "x = np.linspace(-3, 3, 100)\n",
    "\n",
    "z = stats.norm.pdf(x)\n",
    "\n",
    "for dof in range(1, 12, 5):\n",
    "    t = stats.t(dof).pdf(x)\n",
    "    plt.plot(x, t, label=f't dist(dof={dof})')\n",
    "\n",
    "plt.plot(x, z, label='std norm', linewidth=3)\n",
    "plt.legend()"
   ]
  },
  {
   "cell_type": "markdown",
   "id": "a49e6aa9-79e7-4d97-b5a2-01b9a35f1c04",
   "metadata": {},
   "source": [
    "### 平均の区間推定(正規分布 vs t分布)"
   ]
  },
  {
   "cell_type": "code",
   "execution_count": 63,
   "id": "593a0f6d-eee9-4bad-bb2d-9f60be09f90e",
   "metadata": {},
   "outputs": [
    {
     "name": "stdout",
     "output_type": "stream",
     "text": [
      "正規分布: 2.428760267711639 3.0976397322883598\n",
      "t分布: 2.4202948197328182 3.1061051802671806\n"
     ]
    }
   ],
   "source": [
    "n = 50\n",
    "m = 100\n",
    "col = 'tip'\n",
    "alpha = 0.95\n",
    "norm_results = []\n",
    "t_results = []\n",
    "\n",
    "population_mean = df[col].mean()\n",
    "\n",
    "\n",
    "for _ in range(m):\n",
    "    sample_df = df.sample(n)\n",
    "    sample_mean = sample_df[col].mean()\n",
    "    sample_var = stats.tvar(sample_df[col])\n",
    "    \n",
    "    # 正規分布\n",
    "    min_norm_val, max_norm_val = stats.norm.interval(alpha=alpha, loc=sample_mean, scale=np.sqrt(sample_var/n))\n",
    "#     print(min_norm_val, max_norm_val)\n",
    "#     norm_correct = min_norm_val < population_mean < max_norm_val\n",
    "#     norm_results.append({'min': min_norm_val, 'max': max_norm_val, 'correct': norm_correct})\n",
    "    \n",
    "    # t分布\n",
    "    min_t_val, max_t_val = stats.t.interval(alpha=alpha, loc=sample_mean, scale=np.sqrt(sample_var/n), df=n-1)\n",
    "#     print(min_t_val, max_t_val)\n",
    "#     t_correct = min_t_val < population_mean < max_t_val\n",
    "#     t_results.append({'min': min_t_val, 'max': max_t_val, 'correct': t_correct})\n",
    "\n",
    "\n",
    "print('正規分布:', min_norm_val, max_norm_val)\n",
    "print('t分布:', min_t_val, max_t_val)\n",
    "# result_norm_df = pd.DataFrame(norm_results)\n",
    "# result_t_df = pd.DataFrame(t_results)\n",
    "# print(result_norm_df['correct'].value_counts())\n",
    "# print(result_t_df['correct'].value_counts())\n",
    "\n",
    "\n"
   ]
  },
  {
   "cell_type": "code",
   "execution_count": null,
   "id": "17a1eb1b-bd50-4a54-9b23-665114fa8654",
   "metadata": {},
   "outputs": [],
   "source": []
  },
  {
   "cell_type": "code",
   "execution_count": null,
   "id": "9ba09297-7563-4ebe-81d4-bf4f47cbb659",
   "metadata": {},
   "outputs": [],
   "source": []
  },
  {
   "cell_type": "code",
   "execution_count": null,
   "id": "b91d2d52-daef-42f9-8636-8742febc3543",
   "metadata": {},
   "outputs": [],
   "source": []
  },
  {
   "cell_type": "code",
   "execution_count": null,
   "id": "9f81de33-75cf-4216-8fe5-637cd519dc75",
   "metadata": {},
   "outputs": [],
   "source": []
  },
  {
   "cell_type": "code",
   "execution_count": null,
   "id": "7af837c5-6ef9-433b-a2c2-0306c8d6fe70",
   "metadata": {},
   "outputs": [],
   "source": []
  }
 ],
 "metadata": {
  "kernelspec": {
   "display_name": "Python 3",
   "language": "python",
   "name": "python3"
  },
  "language_info": {
   "codemirror_mode": {
    "name": "ipython",
    "version": 3
   },
   "file_extension": ".py",
   "mimetype": "text/x-python",
   "name": "python",
   "nbconvert_exporter": "python",
   "pygments_lexer": "ipython3",
   "version": "3.8.8"
  }
 },
 "nbformat": 4,
 "nbformat_minor": 5
}
