{
 "cells": [
  {
   "cell_type": "markdown",
   "id": "86c80bba-aa76-474f-ad0b-5412cdf42ef1",
   "metadata": {},
   "source": [
    "# 2変数間の記述統計"
   ]
  },
  {
   "cell_type": "markdown",
   "id": "c92cb118-ecf5-493f-9f27-02cb582465d7",
   "metadata": {},
   "source": [
    "## 共分散"
   ]
  },
  {
   "cell_type": "markdown",
   "id": "e3fa75d7-b45e-4b16-b2e2-51a6aa6dc927",
   "metadata": {},
   "source": [
    "散布図にした時のばらつき<br>\n",
    "\n",
    "$s_{xy} = \\frac{1}{n}Σ^{n}_{i=1}(x_{i} - \\bar{x})(y_{i} - \\bar{y})$"
   ]
  },
  {
   "cell_type": "code",
   "execution_count": 34,
   "id": "705a4240-fb96-4566-a32f-5885b3129ee0",
   "metadata": {
    "tags": []
   },
   "outputs": [],
   "source": [
    "import seaborn as sns\n",
    "import numpy as np\n",
    "from scipy import stats\n",
    "import pandas as pd\n",
    "import matplotlib.pyplot as plt\n",
    "%matplotlib inline"
   ]
  },
  {
   "cell_type": "code",
   "execution_count": 17,
   "id": "89d3310f-672c-43f8-b8f3-e2a7af8cfc37",
   "metadata": {
    "tags": []
   },
   "outputs": [
    {
     "data": {
      "text/html": [
       "<div>\n",
       "<style scoped>\n",
       "    .dataframe tbody tr th:only-of-type {\n",
       "        vertical-align: middle;\n",
       "    }\n",
       "\n",
       "    .dataframe tbody tr th {\n",
       "        vertical-align: top;\n",
       "    }\n",
       "\n",
       "    .dataframe thead th {\n",
       "        text-align: right;\n",
       "    }\n",
       "</style>\n",
       "<table border=\"1\" class=\"dataframe\">\n",
       "  <thead>\n",
       "    <tr style=\"text-align: right;\">\n",
       "      <th></th>\n",
       "      <th>total_bill</th>\n",
       "      <th>tip</th>\n",
       "      <th>sex</th>\n",
       "      <th>smoker</th>\n",
       "      <th>day</th>\n",
       "      <th>time</th>\n",
       "      <th>size</th>\n",
       "      <th>tip_rate</th>\n",
       "    </tr>\n",
       "  </thead>\n",
       "  <tbody>\n",
       "    <tr>\n",
       "      <th>0</th>\n",
       "      <td>16.99</td>\n",
       "      <td>1.01</td>\n",
       "      <td>Female</td>\n",
       "      <td>No</td>\n",
       "      <td>Sun</td>\n",
       "      <td>Dinner</td>\n",
       "      <td>2</td>\n",
       "      <td>0.059447</td>\n",
       "    </tr>\n",
       "    <tr>\n",
       "      <th>1</th>\n",
       "      <td>10.34</td>\n",
       "      <td>1.66</td>\n",
       "      <td>Male</td>\n",
       "      <td>No</td>\n",
       "      <td>Sun</td>\n",
       "      <td>Dinner</td>\n",
       "      <td>3</td>\n",
       "      <td>0.160542</td>\n",
       "    </tr>\n",
       "    <tr>\n",
       "      <th>2</th>\n",
       "      <td>21.01</td>\n",
       "      <td>3.50</td>\n",
       "      <td>Male</td>\n",
       "      <td>No</td>\n",
       "      <td>Sun</td>\n",
       "      <td>Dinner</td>\n",
       "      <td>3</td>\n",
       "      <td>0.166587</td>\n",
       "    </tr>\n",
       "    <tr>\n",
       "      <th>3</th>\n",
       "      <td>23.68</td>\n",
       "      <td>3.31</td>\n",
       "      <td>Male</td>\n",
       "      <td>No</td>\n",
       "      <td>Sun</td>\n",
       "      <td>Dinner</td>\n",
       "      <td>2</td>\n",
       "      <td>0.139780</td>\n",
       "    </tr>\n",
       "    <tr>\n",
       "      <th>4</th>\n",
       "      <td>24.59</td>\n",
       "      <td>3.61</td>\n",
       "      <td>Female</td>\n",
       "      <td>No</td>\n",
       "      <td>Sun</td>\n",
       "      <td>Dinner</td>\n",
       "      <td>4</td>\n",
       "      <td>0.146808</td>\n",
       "    </tr>\n",
       "    <tr>\n",
       "      <th>...</th>\n",
       "      <td>...</td>\n",
       "      <td>...</td>\n",
       "      <td>...</td>\n",
       "      <td>...</td>\n",
       "      <td>...</td>\n",
       "      <td>...</td>\n",
       "      <td>...</td>\n",
       "      <td>...</td>\n",
       "    </tr>\n",
       "    <tr>\n",
       "      <th>239</th>\n",
       "      <td>29.03</td>\n",
       "      <td>5.92</td>\n",
       "      <td>Male</td>\n",
       "      <td>No</td>\n",
       "      <td>Sat</td>\n",
       "      <td>Dinner</td>\n",
       "      <td>3</td>\n",
       "      <td>0.203927</td>\n",
       "    </tr>\n",
       "    <tr>\n",
       "      <th>240</th>\n",
       "      <td>27.18</td>\n",
       "      <td>2.00</td>\n",
       "      <td>Female</td>\n",
       "      <td>Yes</td>\n",
       "      <td>Sat</td>\n",
       "      <td>Dinner</td>\n",
       "      <td>2</td>\n",
       "      <td>0.073584</td>\n",
       "    </tr>\n",
       "    <tr>\n",
       "      <th>241</th>\n",
       "      <td>22.67</td>\n",
       "      <td>2.00</td>\n",
       "      <td>Male</td>\n",
       "      <td>Yes</td>\n",
       "      <td>Sat</td>\n",
       "      <td>Dinner</td>\n",
       "      <td>2</td>\n",
       "      <td>0.088222</td>\n",
       "    </tr>\n",
       "    <tr>\n",
       "      <th>242</th>\n",
       "      <td>17.82</td>\n",
       "      <td>1.75</td>\n",
       "      <td>Male</td>\n",
       "      <td>No</td>\n",
       "      <td>Sat</td>\n",
       "      <td>Dinner</td>\n",
       "      <td>2</td>\n",
       "      <td>0.098204</td>\n",
       "    </tr>\n",
       "    <tr>\n",
       "      <th>243</th>\n",
       "      <td>18.78</td>\n",
       "      <td>3.00</td>\n",
       "      <td>Female</td>\n",
       "      <td>No</td>\n",
       "      <td>Thur</td>\n",
       "      <td>Dinner</td>\n",
       "      <td>2</td>\n",
       "      <td>0.159744</td>\n",
       "    </tr>\n",
       "  </tbody>\n",
       "</table>\n",
       "<p>244 rows × 8 columns</p>\n",
       "</div>"
      ],
      "text/plain": [
       "     total_bill   tip     sex smoker   day    time  size  tip_rate\n",
       "0         16.99  1.01  Female     No   Sun  Dinner     2  0.059447\n",
       "1         10.34  1.66    Male     No   Sun  Dinner     3  0.160542\n",
       "2         21.01  3.50    Male     No   Sun  Dinner     3  0.166587\n",
       "3         23.68  3.31    Male     No   Sun  Dinner     2  0.139780\n",
       "4         24.59  3.61  Female     No   Sun  Dinner     4  0.146808\n",
       "..          ...   ...     ...    ...   ...     ...   ...       ...\n",
       "239       29.03  5.92    Male     No   Sat  Dinner     3  0.203927\n",
       "240       27.18  2.00  Female    Yes   Sat  Dinner     2  0.073584\n",
       "241       22.67  2.00    Male    Yes   Sat  Dinner     2  0.088222\n",
       "242       17.82  1.75    Male     No   Sat  Dinner     2  0.098204\n",
       "243       18.78  3.00  Female     No  Thur  Dinner     2  0.159744\n",
       "\n",
       "[244 rows x 8 columns]"
      ]
     },
     "execution_count": 17,
     "metadata": {},
     "output_type": "execute_result"
    }
   ],
   "source": [
    "df = sns.load_dataset('tips')\n",
    "df['tip_rate'] = df['tip'] / df['total_bill']\n",
    "df"
   ]
  },
  {
   "cell_type": "code",
   "execution_count": 9,
   "id": "cfc6e22f-8f88-4318-9a3c-0c21c9912d83",
   "metadata": {},
   "outputs": [
    {
     "data": {
      "text/plain": [
       "array([[78.92813149,  8.28938892],\n",
       "       [ 8.28938892,  1.90660851]])"
      ]
     },
     "execution_count": 9,
     "metadata": {},
     "output_type": "execute_result"
    }
   ],
   "source": [
    "# biasをTrueにすると共分散、Falseにすると不偏共分散を返す（デフォルトはFalse）\n",
    "np.cov(df['total_bill'],df['tip'], bias=True)"
   ]
  },
  {
   "cell_type": "code",
   "execution_count": 10,
   "id": "b927b16f-dade-457f-9a57-a17d620db87f",
   "metadata": {},
   "outputs": [
    {
     "data": {
      "text/plain": [
       "78.92813148851113"
      ]
     },
     "execution_count": 10,
     "metadata": {},
     "output_type": "execute_result"
    }
   ],
   "source": [
    "np.var(df['total_bill'])"
   ]
  },
  {
   "cell_type": "code",
   "execution_count": 15,
   "id": "b68f2f6e-40f9-4cda-a49b-0696f20a2a91",
   "metadata": {},
   "outputs": [
    {
     "data": {
      "text/plain": [
       "array([[78.92813149,  8.28938892,  5.04522121],\n",
       "       [ 8.28938892,  1.90660851,  0.64126747],\n",
       "       [ 5.04522121,  0.64126747,  0.9008835 ]])"
      ]
     },
     "execution_count": 15,
     "metadata": {},
     "output_type": "execute_result"
    }
   ],
   "source": [
    "x = np.stack([df['total_bill'],df['tip'], df['size']],axis=0)\n",
    "np.cov(x, bias=True)"
   ]
  },
  {
   "cell_type": "code",
   "execution_count": 19,
   "id": "803a0a0f-61d5-4875-a1f4-9b3cf226d7fa",
   "metadata": {},
   "outputs": [
    {
     "data": {
      "text/html": [
       "<div>\n",
       "<style scoped>\n",
       "    .dataframe tbody tr th:only-of-type {\n",
       "        vertical-align: middle;\n",
       "    }\n",
       "\n",
       "    .dataframe tbody tr th {\n",
       "        vertical-align: top;\n",
       "    }\n",
       "\n",
       "    .dataframe thead th {\n",
       "        text-align: right;\n",
       "    }\n",
       "</style>\n",
       "<table border=\"1\" class=\"dataframe\">\n",
       "  <thead>\n",
       "    <tr style=\"text-align: right;\">\n",
       "      <th></th>\n",
       "      <th>total_bill</th>\n",
       "      <th>tip</th>\n",
       "      <th>size</th>\n",
       "      <th>tip_rate</th>\n",
       "    </tr>\n",
       "  </thead>\n",
       "  <tbody>\n",
       "    <tr>\n",
       "      <th>total_bill</th>\n",
       "      <td>79.252939</td>\n",
       "      <td>8.323502</td>\n",
       "      <td>5.065983</td>\n",
       "      <td>-0.184107</td>\n",
       "    </tr>\n",
       "    <tr>\n",
       "      <th>tip</th>\n",
       "      <td>8.323502</td>\n",
       "      <td>1.914455</td>\n",
       "      <td>0.643906</td>\n",
       "      <td>0.028931</td>\n",
       "    </tr>\n",
       "    <tr>\n",
       "      <th>size</th>\n",
       "      <td>5.065983</td>\n",
       "      <td>0.643906</td>\n",
       "      <td>0.904591</td>\n",
       "      <td>-0.008298</td>\n",
       "    </tr>\n",
       "    <tr>\n",
       "      <th>tip_rate</th>\n",
       "      <td>-0.184107</td>\n",
       "      <td>0.028931</td>\n",
       "      <td>-0.008298</td>\n",
       "      <td>0.003730</td>\n",
       "    </tr>\n",
       "  </tbody>\n",
       "</table>\n",
       "</div>"
      ],
      "text/plain": [
       "            total_bill       tip      size  tip_rate\n",
       "total_bill   79.252939  8.323502  5.065983 -0.184107\n",
       "tip           8.323502  1.914455  0.643906  0.028931\n",
       "size          5.065983  0.643906  0.904591 -0.008298\n",
       "tip_rate     -0.184107  0.028931 -0.008298  0.003730"
      ]
     },
     "execution_count": 19,
     "metadata": {},
     "output_type": "execute_result"
    }
   ],
   "source": [
    "# 不偏共分散となる\n",
    "df.cov()"
   ]
  },
  {
   "cell_type": "markdown",
   "id": "78b2f4a7-7f4d-4a89-88ad-4c68ccb6b5b1",
   "metadata": {},
   "source": [
    "#### どれくらい相関が強いのかは共分散を見ただけではわからない(尺度が違う)ので、相関係数を計算する必要がある！"
   ]
  },
  {
   "cell_type": "markdown",
   "id": "16bf1a0c-adcc-44f0-912d-310d880c9118",
   "metadata": {},
   "source": [
    "## 相関係数"
   ]
  },
  {
   "cell_type": "markdown",
   "id": "ef73c4e1-064a-484c-8b38-e5b4a9f05db6",
   "metadata": {},
   "source": [
    "共分散を標準化したのが相関係数<br>\n",
    "$(相関係数)=\\frac{(xとyの共分散)}{(xの標準偏差)⋅(yの標準偏差)}$<br>\n",
    "\n",
    "なぜxの標準偏差とyの標準偏差の積で割るのか？<br>\n",
    "無次元化(単位を消す)するため\n",
    "$\\frac{(𝑘𝑔×𝑚)^2}{(𝑘𝑔×𝑚)(𝑘𝑔×𝑚)}=1$<br>\n",
    "\n",
    "なぜ標準偏差で割るのかといえば無次元化に都合のいい値だったから"
   ]
  },
  {
   "cell_type": "markdown",
   "id": "32a3445f-32fe-46ea-8d48-629cf89576b5",
   "metadata": {},
   "source": [
    "共分散<br>\n",
    "$S_{xy} = \\frac{1}{n}Σ^{n}_{i=1}(x_{i} - \\bar{x})(y_{i} - \\bar{y})$<br>"
   ]
  },
  {
   "cell_type": "markdown",
   "id": "fd4915d2-5f9d-4a60-9e7b-028388adf05a",
   "metadata": {},
   "source": [
    "共分散の取りうる値<br>\n",
    "$-s_{x}s_{y} ≦ s_{xy} ≦ s_{x}s_{y}$\n",
    "\n",
    "正の相関が最大の時、yはxを用いて直線で表すことができる<br>\n",
    "$y_{i} = ax_{i} + b$<br>\n",
    "\n",
    "$\\bar{y} = a\\bar{x} + b$<br>\n",
    "\n",
    "$S_{xy} = \\frac{1}{n}Σ^{n}_{i=1}(x_{i} - \\bar{x})(ax_{i} + b - (a\\bar{x} + b))$<br>\n",
    "\n",
    "　　  = $\\frac{1}{n}Σ^{n}_{i=1}(x_{i} - \\bar{x})(ax_{i} - a\\bar{x})$<br>\n",
    "　　  = $a\\frac{1}{n}Σ^{n}_{i=1}(x_{i} - \\bar{x})(x_{i} - \\bar{x})$<br>\n",
    "　　  = a * 「$\\frac{1}{n}Σ^{n}_{i=1}(x_{i} - \\bar{x})^2$」 = 分散の式<br>\n",
    "　　  = $as_{x}^2$"
   ]
  },
  {
   "cell_type": "markdown",
   "id": "9422f06b-a6f4-4fe2-976d-3dfad189262e",
   "metadata": {},
   "source": [
    "y = ax + b のとき<br>\n",
    "yの標準偏差($s_y$)はxの標準偏差($s_x$)にaを掛けたもの($as_{x}$)になる<br>\n",
    "\n",
    "$s_y = as_x$<br>\n",
    "\n",
    "$a = \\frac{s_y}{s_x}$<br>\n",
    "\n",
    "$as_x^2 = \\frac{s_y}{s_x}s_x^2$<br>\n",
    "\n",
    "$= s_{x}s_{y}$"
   ]
  },
  {
   "cell_type": "code",
   "execution_count": 22,
   "id": "87e17ae7-b2a2-4124-aeba-18ad6f7c6ee1",
   "metadata": {},
   "outputs": [
    {
     "data": {
      "text/plain": [
       "array([[1.        , 0.67573411],\n",
       "       [0.67573411, 1.        ]])"
      ]
     },
     "execution_count": 22,
     "metadata": {},
     "output_type": "execute_result"
    }
   ],
   "source": [
    "np.corrcoef(df['total_bill'],df['tip'])"
   ]
  },
  {
   "cell_type": "code",
   "execution_count": 26,
   "id": "a7be2307-325d-467a-a437-129719e97026",
   "metadata": {},
   "outputs": [
    {
     "data": {
      "text/plain": [
       "array([[1.        , 0.67573411, 0.59831513],\n",
       "       [0.67573411, 1.        , 0.48929878],\n",
       "       [0.59831513, 0.48929878, 1.        ]])"
      ]
     },
     "execution_count": 26,
     "metadata": {},
     "output_type": "execute_result"
    }
   ],
   "source": [
    "# 相関係数を見れば単純に比較ができる\n",
    "x = np.stack([df['total_bill'],df['tip'], df['size']],axis=0)\n",
    "np.corrcoef(x)"
   ]
  },
  {
   "cell_type": "code",
   "execution_count": 27,
   "id": "1a45cced-cba8-4158-8ad9-a8bbc8ae3a86",
   "metadata": {},
   "outputs": [
    {
     "data": {
      "text/html": [
       "<div>\n",
       "<style scoped>\n",
       "    .dataframe tbody tr th:only-of-type {\n",
       "        vertical-align: middle;\n",
       "    }\n",
       "\n",
       "    .dataframe tbody tr th {\n",
       "        vertical-align: top;\n",
       "    }\n",
       "\n",
       "    .dataframe thead th {\n",
       "        text-align: right;\n",
       "    }\n",
       "</style>\n",
       "<table border=\"1\" class=\"dataframe\">\n",
       "  <thead>\n",
       "    <tr style=\"text-align: right;\">\n",
       "      <th></th>\n",
       "      <th>total_bill</th>\n",
       "      <th>tip</th>\n",
       "      <th>size</th>\n",
       "      <th>tip_rate</th>\n",
       "    </tr>\n",
       "  </thead>\n",
       "  <tbody>\n",
       "    <tr>\n",
       "      <th>total_bill</th>\n",
       "      <td>1.000000</td>\n",
       "      <td>0.675734</td>\n",
       "      <td>0.598315</td>\n",
       "      <td>-0.338624</td>\n",
       "    </tr>\n",
       "    <tr>\n",
       "      <th>tip</th>\n",
       "      <td>0.675734</td>\n",
       "      <td>1.000000</td>\n",
       "      <td>0.489299</td>\n",
       "      <td>0.342370</td>\n",
       "    </tr>\n",
       "    <tr>\n",
       "      <th>size</th>\n",
       "      <td>0.598315</td>\n",
       "      <td>0.489299</td>\n",
       "      <td>1.000000</td>\n",
       "      <td>-0.142860</td>\n",
       "    </tr>\n",
       "    <tr>\n",
       "      <th>tip_rate</th>\n",
       "      <td>-0.338624</td>\n",
       "      <td>0.342370</td>\n",
       "      <td>-0.142860</td>\n",
       "      <td>1.000000</td>\n",
       "    </tr>\n",
       "  </tbody>\n",
       "</table>\n",
       "</div>"
      ],
      "text/plain": [
       "            total_bill       tip      size  tip_rate\n",
       "total_bill    1.000000  0.675734  0.598315 -0.338624\n",
       "tip           0.675734  1.000000  0.489299  0.342370\n",
       "size          0.598315  0.489299  1.000000 -0.142860\n",
       "tip_rate     -0.338624  0.342370 -0.142860  1.000000"
      ]
     },
     "execution_count": 27,
     "metadata": {},
     "output_type": "execute_result"
    }
   ],
   "source": [
    "df.corr()"
   ]
  },
  {
   "cell_type": "code",
   "execution_count": 32,
   "id": "c1926f3b-d1c6-4e80-94ca-037c55831c1f",
   "metadata": {},
   "outputs": [
    {
     "data": {
      "text/plain": [
       "<AxesSubplot:>"
      ]
     },
     "execution_count": 32,
     "metadata": {},
     "output_type": "execute_result"
    },
    {
     "data": {
      "image/png": "[encoded data removed]",
      "text/plain": [
       "<Figure size 432x288 with 2 Axes>"
      ]
     },
     "metadata": {
      "needs_background": "light"
     },
     "output_type": "display_data"
    }
   ],
   "source": [
    "sns.heatmap(df.corr(), cmap='coolwarm', annot=True)"
   ]
  },
  {
   "cell_type": "markdown",
   "id": "8d620cc3-cffe-499d-b4a8-6d382e8ccb4e",
   "metadata": {},
   "source": [
    "### 連関"
   ]
  },
  {
   "cell_type": "markdown",
   "id": "63c6cff2-bb7f-4f22-9c40-9d9e1ae308a2",
   "metadata": {},
   "source": [
    "カテゴリ変数間の相関関係<br>\n",
    "期待度数 = 連関がなかった場合の度数<br>\n",
    "\n",
    "期待度数からどれくらい離れているかで連関があるかどうかを判断する"
   ]
  },
  {
   "cell_type": "markdown",
   "id": "a5bad20d-3fd1-442c-9a79-359c8e5eee6e",
   "metadata": {},
   "source": [
    "### カイ二乗"
   ]
  },
  {
   "cell_type": "markdown",
   "id": "58f76510-ef10-4821-9986-a2d82915b627",
   "metadata": {},
   "source": [
    "観測度数が期待度数からどれくらい離れているかを計算した値<br>\n",
    "二乗しているため、結果の値を比較してもどちらが連関が強いかわからない<br>\n",
    "→標準化する必要がある"
   ]
  },
  {
   "cell_type": "markdown",
   "id": "51a6cb37-2350-471c-b60c-659be5748040",
   "metadata": {},
   "source": [
    "$χ^2 = Σ^a_{i=1}Σ^b_{i=1}\\frac{(観測度数_{ij} - 期待度数_{ij})^2}{期待度数_{ij}}$"
   ]
  },
  {
   "cell_type": "code",
   "execution_count": 42,
   "id": "f533f152-f472-4a42-ab57-af04d18af8b8",
   "metadata": {},
   "outputs": [
    {
     "data": {
      "text/html": [
       "<div>\n",
       "<style scoped>\n",
       "    .dataframe tbody tr th:only-of-type {\n",
       "        vertical-align: middle;\n",
       "    }\n",
       "\n",
       "    .dataframe tbody tr th {\n",
       "        vertical-align: top;\n",
       "    }\n",
       "\n",
       "    .dataframe thead th {\n",
       "        text-align: right;\n",
       "    }\n",
       "</style>\n",
       "<table border=\"1\" class=\"dataframe\">\n",
       "  <thead>\n",
       "    <tr style=\"text-align: right;\">\n",
       "      <th>time</th>\n",
       "      <th>Lunch</th>\n",
       "      <th>Dinner</th>\n",
       "    </tr>\n",
       "    <tr>\n",
       "      <th>sex</th>\n",
       "      <th></th>\n",
       "      <th></th>\n",
       "    </tr>\n",
       "  </thead>\n",
       "  <tbody>\n",
       "    <tr>\n",
       "      <th>Male</th>\n",
       "      <td>33</td>\n",
       "      <td>124</td>\n",
       "    </tr>\n",
       "    <tr>\n",
       "      <th>Female</th>\n",
       "      <td>35</td>\n",
       "      <td>52</td>\n",
       "    </tr>\n",
       "  </tbody>\n",
       "</table>\n",
       "</div>"
      ],
      "text/plain": [
       "time    Lunch  Dinner\n",
       "sex                  \n",
       "Male       33     124\n",
       "Female     35      52"
      ]
     },
     "execution_count": 42,
     "metadata": {},
     "output_type": "execute_result"
    }
   ],
   "source": [
    "pd.crosstab(df['sex'], df['time'])"
   ]
  },
  {
   "cell_type": "code",
   "execution_count": 43,
   "id": "5096e55b-8c97-4970-82e8-3acf74588a22",
   "metadata": {},
   "outputs": [
    {
     "data": {
      "text/plain": [
       "(10.277251918677742,\n",
       " 0.0013468039268008766,\n",
       " 1,\n",
       " array([[ 43.75409836, 113.24590164],\n",
       "        [ 24.24590164,  62.75409836]]))"
      ]
     },
     "execution_count": 43,
     "metadata": {},
     "output_type": "execute_result"
    }
   ],
   "source": [
    "cont_table = pd.crosstab(df['sex'], df['time'])\n",
    "# contingency 分割表\n",
    "# chi2 χ二乗\n",
    "stats.chi2_contingency(cont_table, correction=False)\n",
    "\n",
    "# 第一戻り値：χ2\n",
    "# 第四戻り値：期待度数の分割表"
   ]
  },
  {
   "cell_type": "markdown",
   "id": "8aadf881-16dc-44e1-b48b-bfa9ab904845",
   "metadata": {},
   "source": [
    "### クラメールの連関関数"
   ]
  },
  {
   "cell_type": "markdown",
   "id": "7e51593d-aade-4601-bed9-e4722e82249c",
   "metadata": {},
   "source": [
    "連関の強さを表す指標<br>\n",
    "χ2値を0~1に標準化した値"
   ]
  },
  {
   "cell_type": "markdown",
   "id": "8bb184c4-b827-4d81-9d37-249c74b538e2",
   "metadata": {},
   "source": [
    "$V = \\sqrt{\\frac{χ^2}{(min(a,b) - 1N)}}$"
   ]
  },
  {
   "cell_type": "markdown",
   "id": "62e93b69-a4b5-4fcc-940f-cd818c61a4b8",
   "metadata": {},
   "source": [
    "※min(a, b)は行数a, 列数bのうち小さい方<br>\n",
    "\n",
    "$χ^2 = 24.11$<br>\n",
    "a = 2, b = 2, min(a, b) = 2 (2行2列なので小さい方(今回は同じなので2)を返す)<br>\n",
    "N = 100<br>"
   ]
  },
  {
   "cell_type": "code",
   "execution_count": 77,
   "id": "a8b69298-96e7-4d57-8ae0-65e4174cf724",
   "metadata": {},
   "outputs": [],
   "source": [
    "def cramers_v(x, y):\n",
    "    cont_table = pd.crosstab(x, y)\n",
    "    chi2 = stats.chi2_contingency(cont_table, correction=False)[0]\n",
    "    min_d = min(cont_table.shape) -1\n",
    "    n = len(x)\n",
    "    v = np.sqrt(chi2 / (min_d * N))\n",
    "    return v"
   ]
  },
  {
   "cell_type": "code",
   "execution_count": 78,
   "id": "32dda4b3-0ac8-45a5-8999-f08487fac2d8",
   "metadata": {},
   "outputs": [
    {
     "data": {
      "text/plain": [
       "0.20523129613344476"
      ]
     },
     "execution_count": 78,
     "metadata": {},
     "output_type": "execute_result"
    }
   ],
   "source": [
    "cramale_calc(x=df['sex'], y=df['time'])"
   ]
  },
  {
   "cell_type": "code",
   "execution_count": null,
   "id": "d7ef9b11-18fa-48a7-8e29-ae72172908cf",
   "metadata": {},
   "outputs": [],
   "source": []
  },
  {
   "cell_type": "code",
   "execution_count": null,
   "id": "4791347f-9e29-4e1a-8dd8-bfc15960f8e8",
   "metadata": {},
   "outputs": [],
   "source": []
  }
 ],
 "metadata": {
  "kernelspec": {
   "display_name": "Python 3",
   "language": "python",
   "name": "python3"
  },
  "language_info": {
   "codemirror_mode": {
    "name": "ipython",
    "version": 3
   },
   "file_extension": ".py",
   "mimetype": "text/x-python",
   "name": "python",
   "nbconvert_exporter": "python",
   "pygments_lexer": "ipython3",
   "version": "3.8.8"
  }
 },
 "nbformat": 4,
 "nbformat_minor": 5
}
